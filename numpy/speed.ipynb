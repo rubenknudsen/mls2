{
 "cells": [
  {
   "cell_type": "code",
   "execution_count": 6,
   "metadata": {
    "collapsed": false
   },
   "outputs": [],
   "source": [
    "\n",
    "import numpy as np\n",
    "from random import randint\n",
    "\n"
   ]
  },
  {
   "cell_type": "code",
   "execution_count": 19,
   "metadata": {
    "collapsed": true
   },
   "outputs": [],
   "source": [
    "def pysum(a):\n",
    "    return sum(a)\n",
    "    \n",
    "def npsum(a):\n",
    "    return a.sum()\n",
    "\n",
    "def pypow(a, n):\n",
    "    return [pow(x,n) for x in a]\n",
    "\n",
    "def nppow(a,n):\n",
    "    return np.power(a,n)\n",
    "\n",
    "def pyadd(a, b):\n",
    "    return [x+y for x,y in zip(a,b)]\n",
    "\n",
    "def npadd(a,b):\n",
    "    return a+b"
   ]
  },
  {
   "cell_type": "code",
   "execution_count": 29,
   "metadata": {
    "collapsed": false
   },
   "outputs": [],
   "source": [
    "nElements = 10\n",
    "pyl = [randint(0,100) for _ in range(nElements)]\n",
    "npl = np.random.randint(0,100,size=nElements)\n"
   ]
  },
  {
   "cell_type": "code",
   "execution_count": 30,
   "metadata": {
    "collapsed": false
   },
   "outputs": [
    {
     "name": "stdout",
     "output_type": "stream",
     "text": [
      "python list\n",
      "The slowest run took 9.32 times longer than the fastest. This could mean that an intermediate result is being cached.\n",
      "1000000 loops, best of 3: 639 ns per loop\n",
      "numpy array\n",
      "The slowest run took 7.31 times longer than the fastest. This could mean that an intermediate result is being cached.\n",
      "100000 loops, best of 3: 6.64 µs per loop\n"
     ]
    }
   ],
   "source": [
    "# straight python can be faster, esp for small arrays\n",
    "\n",
    "print(\"python list\")\n",
    "%timeit pysum(pyl)\n",
    "print(\"numpy array\")\n",
    "%timeit npsum(npl)"
   ]
  },
  {
   "cell_type": "code",
   "execution_count": 31,
   "metadata": {
    "collapsed": false
   },
   "outputs": [
    {
     "name": "stdout",
     "output_type": "stream",
     "text": [
      "python list\n",
      "100000 loops, best of 3: 8.22 µs per loop\n",
      "numpy array\n",
      "The slowest run took 8.92 times longer than the fastest. This could mean that an intermediate result is being cached.\n",
      "100000 loops, best of 3: 3.87 µs per loop\n"
     ]
    }
   ],
   "source": [
    "print(\"python list\")\n",
    "%timeit pypow(pyl,3)\n",
    "print(\"numpy array\")\n",
    "%timeit nppow(npl,3)"
   ]
  },
  {
   "cell_type": "code",
   "execution_count": 27,
   "metadata": {
    "collapsed": false
   },
   "outputs": [
    {
     "name": "stdout",
     "output_type": "stream",
     "text": [
      "python list\n",
      "10000 loops, best of 3: 122 µs per loop\n",
      "numpy array\n",
      "The slowest run took 32.06 times longer than the fastest. This could mean that an intermediate result is being cached.\n",
      "100000 loops, best of 3: 1.26 µs per loop\n"
     ]
    }
   ],
   "source": [
    "print(\"python list\")\n",
    "%timeit pyadd(pyl, pyl)\n",
    "print(\"numpy array\")\n",
    "%timeit npadd(npl, npl)"
   ]
  }
 ],
 "metadata": {
  "kernelspec": {
   "display_name": "Python 3",
   "language": "python",
   "name": "python3"
  },
  "language_info": {
   "codemirror_mode": {
    "name": "ipython",
    "version": 3
   },
   "file_extension": ".py",
   "mimetype": "text/x-python",
   "name": "python",
   "nbconvert_exporter": "python",
   "pygments_lexer": "ipython3",
   "version": "3.5.2"
  }
 },
 "nbformat": 4,
 "nbformat_minor": 1
}

{
 "cells": [
  {
   "cell_type": "markdown",
   "metadata": {},
   "source": [
    "`numpy` provides two major benefits\n",
    "\n",
    "* cleaner code\n",
    "* speed\n",
    "\n",
    "This notebook talks about the clear code aspect.  Rather than operating on individual elements of array, numpy allows you to operate on the arrays directly."
   ]
  },
  {
   "cell_type": "code",
   "execution_count": 23,
   "metadata": {
    "collapsed": false
   },
   "outputs": [],
   "source": [
    "\n",
    "import numpy as np\n",
    "from random import randint\n",
    "\n",
    "pya = [randint(0,100) for _ in range(100)]\n",
    "pyb = [randint(0,100) for _ in range(100)]\n",
    "\n",
    "npa = np.array(pya)\n",
    "npb = np.array(pyb)\n",
    "\n",
    "\n"
   ]
  },
  {
   "cell_type": "code",
   "execution_count": 24,
   "metadata": {
    "collapsed": true
   },
   "outputs": [],
   "source": [
    "\n",
    "# traditional\n",
    "for i, _ in enumerate(pya):\n",
    "    pya[i] += 3\n",
    "\n",
    "# numpy\n",
    "npa += 3\n",
    "\n",
    "assert(np.all(npa == pya))"
   ]
  },
  {
   "cell_type": "code",
   "execution_count": 47,
   "metadata": {
    "collapsed": false
   },
   "outputs": [
    {
     "name": "stdout",
     "output_type": "stream",
     "text": [
      "pure python\n",
      "1000 loops, best of 3: 872 µs per loop\n",
      "numpy\n",
      "The slowest run took 5.87 times longer than the fastest. This could mean that an intermediate result is being cached.\n",
      "10000 loops, best of 3: 56.1 µs per loop\n"
     ]
    }
   ],
   "source": [
    "# even more significant for deeper structures\n",
    "\n",
    "# copy rows?\n",
    "\n",
    "pysq = []\n",
    "for i in range(len(pya)):\n",
    "    pysq.append(pya[:])\n",
    "    \n",
    "w=npa.shape[0]\n",
    "npsq = np.tile(npa, w).reshape((w,w))\n",
    "\n",
    "\n",
    "def pyargmaxsq(sq):\n",
    "    mv=float('-inf')\n",
    "    mi=-1\n",
    "    mj=-1\n",
    "    for i, row in enumerate(sq):\n",
    "        for j, v in enumerate(row): \n",
    "            if v > mv:\n",
    "                mv=v\n",
    "                mi=i\n",
    "                mj=j\n",
    "    return (mv, (mi, mj))\n",
    "        \n",
    "def npargmaxsq(sq):\n",
    "    mv = sq.max()\n",
    "    i = sq.argmax()\n",
    "    mi, mj = np.unravel_index(i, sq.shape)\n",
    "    return (mv, (mi, mj))\n",
    "\n",
    "print(\"pure python\")\n",
    "%timeit pyargmaxsq(pysq)\n",
    "print(\"numpy\")\n",
    "%timeit npargmaxsq(npsq)\n"
   ]
  },
  {
   "cell_type": "code",
   "execution_count": null,
   "metadata": {
    "collapsed": true
   },
   "outputs": [],
   "source": []
  }
 ],
 "metadata": {
  "kernelspec": {
   "display_name": "Python 3",
   "language": "python",
   "name": "python3"
  },
  "language_info": {
   "codemirror_mode": {
    "name": "ipython",
    "version": 3
   },
   "file_extension": ".py",
   "mimetype": "text/x-python",
   "name": "python",
   "nbconvert_exporter": "python",
   "pygments_lexer": "ipython3",
   "version": "3.5.2"
  }
 },
 "nbformat": 4,
 "nbformat_minor": 1
}
